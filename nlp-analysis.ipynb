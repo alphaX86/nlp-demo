{
 "cells": [
  {
   "cell_type": "code",
   "execution_count": 1,
   "metadata": {
    "_cell_guid": "b1076dfc-b9ad-4769-8c92-a6c4dae69d19",
    "_uuid": "8f2839f25d086af736a60e9eeb907d3b93b6e0e5",
    "execution": {
     "iopub.execute_input": "2021-02-28T14:34:22.540343Z",
     "iopub.status.busy": "2021-02-28T14:34:22.539790Z",
     "iopub.status.idle": "2021-02-28T14:34:22.551173Z",
     "shell.execute_reply": "2021-02-28T14:34:22.550632Z"
    },
    "papermill": {
     "duration": 0.029445,
     "end_time": "2021-02-28T14:34:22.551329",
     "exception": false,
     "start_time": "2021-02-28T14:34:22.521884",
     "status": "completed"
    },
    "tags": []
   },
   "outputs": [
    {
     "name": "stdout",
     "output_type": "stream",
     "text": [
      "/kaggle/input/hotel-reviews/7282_1.csv\n",
      "/kaggle/input/hotel-reviews/Datafiniti_Hotel_Reviews.csv\n",
      "/kaggle/input/hotel-reviews/Datafiniti_Hotel_Reviews_Jun19.csv\n"
     ]
    }
   ],
   "source": [
    "# This Python 3 environment comes with many helpful analytics libraries installed\n",
    "# It is defined by the kaggle/python Docker image: https://github.com/kaggle/docker-python\n",
    "# For example, here's several helpful packages to load\n",
    "\n",
    "import numpy as np # linear algebra\n",
    "import pandas as pd # data processing, CSV file I/O (e.g. pd.read_csv)\n",
    "\n",
    "# Input data files are available in the read-only \"../input/\" directory\n",
    "# For example, running this (by clicking run or pressing Shift+Enter) will list all files under the input directory\n",
    "\n",
    "import os\n",
    "for dirname, _, filenames in os.walk('/kaggle/input'):\n",
    "    for filename in filenames:\n",
    "        print(os.path.join(dirname, filename))\n",
    "\n",
    "# You can write up to 20GB to the current directory (/kaggle/working/) that gets preserved as output when you create a version using \"Save & Run All\" \n",
    "# You can also write temporary files to /kaggle/temp/, but they won't be saved outside of the current session"
   ]
  },
  {
   "cell_type": "code",
   "execution_count": 2,
   "metadata": {
    "execution": {
     "iopub.execute_input": "2021-02-28T14:34:22.580058Z",
     "iopub.status.busy": "2021-02-28T14:34:22.579512Z",
     "iopub.status.idle": "2021-02-28T14:34:29.122738Z",
     "shell.execute_reply": "2021-02-28T14:34:29.122181Z"
    },
    "papermill": {
     "duration": 6.559008,
     "end_time": "2021-02-28T14:34:29.122871",
     "exception": false,
     "start_time": "2021-02-28T14:34:22.563863",
     "status": "completed"
    },
    "tags": []
   },
   "outputs": [],
   "source": [
    "# Library import part\n",
    "\n",
    "import tensorflow as tf\n",
    "from tensorflow import keras\n",
    "from sklearn.preprocessing import OneHotEncoder"
   ]
  },
  {
   "cell_type": "code",
   "execution_count": 3,
   "metadata": {
    "execution": {
     "iopub.execute_input": "2021-02-28T14:34:29.152047Z",
     "iopub.status.busy": "2021-02-28T14:34:29.151538Z",
     "iopub.status.idle": "2021-02-28T14:34:52.531972Z",
     "shell.execute_reply": "2021-02-28T14:34:52.531494Z"
    },
    "papermill": {
     "duration": 23.396834,
     "end_time": "2021-02-28T14:34:52.532105",
     "exception": false,
     "start_time": "2021-02-28T14:34:29.135271",
     "status": "completed"
    },
    "tags": []
   },
   "outputs": [],
   "source": [
    "!pip install -q tensorflow-text\n",
    "import tensorflow_text as text\n",
    "import tensorflow_hub as hub\n",
    "\n",
    "USE = hub.load(\"https://tfhub.dev/google/universal-sentence-encoder-multilingual-large/3\")"
   ]
  },
  {
   "cell_type": "code",
   "execution_count": 4,
   "metadata": {
    "execution": {
     "iopub.execute_input": "2021-02-28T14:34:52.562343Z",
     "iopub.status.busy": "2021-02-28T14:34:52.561834Z",
     "iopub.status.idle": "2021-02-28T14:34:55.992158Z",
     "shell.execute_reply": "2021-02-28T14:34:55.993084Z"
    },
    "papermill": {
     "duration": 3.448981,
     "end_time": "2021-02-28T14:34:55.993292",
     "exception": false,
     "start_time": "2021-02-28T14:34:52.544311",
     "status": "completed"
    },
    "tags": []
   },
   "outputs": [
    {
     "name": "stdout",
     "output_type": "stream",
     "text": [
      "(1, 512)\n",
      "0.79254705\n"
     ]
    }
   ],
   "source": [
    "# Example\n",
    "\n",
    "sent_1 = [\"the location is great\"]\n",
    "sent_2 = [\"amazing location\"]\n",
    "\n",
    "emb1 = USE(sent_1)\n",
    "emb2 = USE(sent_2)\n",
    "\n",
    "print(emb1.shape)\n",
    "print(np.inner(emb1, emb2).flatten()[0])\n",
    "# The value will print some equivalent one close to 0.80 to 1"
   ]
  },
  {
   "cell_type": "code",
   "execution_count": 5,
   "metadata": {
    "execution": {
     "iopub.execute_input": "2021-02-28T14:34:56.042562Z",
     "iopub.status.busy": "2021-02-28T14:34:56.041804Z",
     "iopub.status.idle": "2021-02-28T14:34:57.332477Z",
     "shell.execute_reply": "2021-02-28T14:34:57.331603Z"
    },
    "papermill": {
     "duration": 1.318329,
     "end_time": "2021-02-28T14:34:57.332605",
     "exception": false,
     "start_time": "2021-02-28T14:34:56.014276",
     "status": "completed"
    },
    "tags": []
   },
   "outputs": [
    {
     "data": {
      "text/html": [
       "<div>\n",
       "<style scoped>\n",
       "    .dataframe tbody tr th:only-of-type {\n",
       "        vertical-align: middle;\n",
       "    }\n",
       "\n",
       "    .dataframe tbody tr th {\n",
       "        vertical-align: top;\n",
       "    }\n",
       "\n",
       "    .dataframe thead th {\n",
       "        text-align: right;\n",
       "    }\n",
       "</style>\n",
       "<table border=\"1\" class=\"dataframe\">\n",
       "  <thead>\n",
       "    <tr style=\"text-align: right;\">\n",
       "      <th></th>\n",
       "      <th>id</th>\n",
       "      <th>dateAdded</th>\n",
       "      <th>dateUpdated</th>\n",
       "      <th>address</th>\n",
       "      <th>categories</th>\n",
       "      <th>primaryCategories</th>\n",
       "      <th>city</th>\n",
       "      <th>country</th>\n",
       "      <th>keys</th>\n",
       "      <th>latitude</th>\n",
       "      <th>...</th>\n",
       "      <th>reviews.dateSeen</th>\n",
       "      <th>reviews.rating</th>\n",
       "      <th>reviews.sourceURLs</th>\n",
       "      <th>reviews.text</th>\n",
       "      <th>reviews.title</th>\n",
       "      <th>reviews.userCity</th>\n",
       "      <th>reviews.userProvince</th>\n",
       "      <th>reviews.username</th>\n",
       "      <th>sourceURLs</th>\n",
       "      <th>websites</th>\n",
       "    </tr>\n",
       "  </thead>\n",
       "  <tbody>\n",
       "    <tr>\n",
       "      <th>0</th>\n",
       "      <td>AVwc252WIN2L1WUfpqLP</td>\n",
       "      <td>2016-10-30T21:42:42Z</td>\n",
       "      <td>2018-09-10T21:06:27Z</td>\n",
       "      <td>5921 Valencia Cir</td>\n",
       "      <td>Hotels,Hotels and motels,Hotel and motel reser...</td>\n",
       "      <td>Accommodation &amp; Food Services</td>\n",
       "      <td>Rancho Santa Fe</td>\n",
       "      <td>US</td>\n",
       "      <td>us/ca/ranchosantafe/5921valenciacir/359754519</td>\n",
       "      <td>32.990959</td>\n",
       "      <td>...</td>\n",
       "      <td>2016-08-03T00:00:00Z,2016-07-26T00:00:00Z,2016...</td>\n",
       "      <td>5.0</td>\n",
       "      <td>https://www.hotels.com/hotel/125419/reviews%20/</td>\n",
       "      <td>Our experience at Rancho Valencia was absolute...</td>\n",
       "      <td>Best romantic vacation ever!!!!</td>\n",
       "      <td>NaN</td>\n",
       "      <td>NaN</td>\n",
       "      <td>Paula</td>\n",
       "      <td>http://www.hotels.com/ho125419/%25252525253Flo...</td>\n",
       "      <td>http://www.ranchovalencia.com</td>\n",
       "    </tr>\n",
       "    <tr>\n",
       "      <th>1</th>\n",
       "      <td>AVwc252WIN2L1WUfpqLP</td>\n",
       "      <td>2016-10-30T21:42:42Z</td>\n",
       "      <td>2018-09-10T21:06:27Z</td>\n",
       "      <td>5921 Valencia Cir</td>\n",
       "      <td>Hotels,Hotels and motels,Hotel and motel reser...</td>\n",
       "      <td>Accommodation &amp; Food Services</td>\n",
       "      <td>Rancho Santa Fe</td>\n",
       "      <td>US</td>\n",
       "      <td>us/ca/ranchosantafe/5921valenciacir/359754519</td>\n",
       "      <td>32.990959</td>\n",
       "      <td>...</td>\n",
       "      <td>2016-08-02T00:00:00Z,2016-08-26T00:00:00Z,2016...</td>\n",
       "      <td>5.0</td>\n",
       "      <td>https://www.hotels.com/hotel/125419/reviews%20/</td>\n",
       "      <td>Amazing place. Everyone was extremely warm and...</td>\n",
       "      <td>Sweet sweet serenity</td>\n",
       "      <td>NaN</td>\n",
       "      <td>NaN</td>\n",
       "      <td>D</td>\n",
       "      <td>http://www.hotels.com/ho125419/%25252525253Flo...</td>\n",
       "      <td>http://www.ranchovalencia.com</td>\n",
       "    </tr>\n",
       "    <tr>\n",
       "      <th>2</th>\n",
       "      <td>AVwc252WIN2L1WUfpqLP</td>\n",
       "      <td>2016-10-30T21:42:42Z</td>\n",
       "      <td>2018-09-10T21:06:27Z</td>\n",
       "      <td>5921 Valencia Cir</td>\n",
       "      <td>Hotels,Hotels and motels,Hotel and motel reser...</td>\n",
       "      <td>Accommodation &amp; Food Services</td>\n",
       "      <td>Rancho Santa Fe</td>\n",
       "      <td>US</td>\n",
       "      <td>us/ca/ranchosantafe/5921valenciacir/359754519</td>\n",
       "      <td>32.990959</td>\n",
       "      <td>...</td>\n",
       "      <td>2016-11-15T00:00:00Z,2016-08-23T00:00:00Z,2016...</td>\n",
       "      <td>5.0</td>\n",
       "      <td>https://www.hotels.com/hotel/125419/reviews%20/</td>\n",
       "      <td>We booked a 3 night stay at Rancho Valencia to...</td>\n",
       "      <td>Amazing Property and Experience</td>\n",
       "      <td>NaN</td>\n",
       "      <td>NaN</td>\n",
       "      <td>Ron</td>\n",
       "      <td>http://www.hotels.com/ho125419/%25252525253Flo...</td>\n",
       "      <td>http://www.ranchovalencia.com</td>\n",
       "    </tr>\n",
       "    <tr>\n",
       "      <th>3</th>\n",
       "      <td>AVwdOclqIN2L1WUfti38</td>\n",
       "      <td>2015-11-28T19:19:35Z</td>\n",
       "      <td>2018-09-10T21:06:16Z</td>\n",
       "      <td>7520 Teague Rd</td>\n",
       "      <td>Hotels,Hotels and motels,Travel agencies and b...</td>\n",
       "      <td>Accommodation &amp; Food Services</td>\n",
       "      <td>Hanover</td>\n",
       "      <td>US</td>\n",
       "      <td>us/md/hanover/7520teaguerd/-2043779672</td>\n",
       "      <td>39.155929</td>\n",
       "      <td>...</td>\n",
       "      <td>2016-05-21T00:00:00Z,2016-07-31T00:00:00Z</td>\n",
       "      <td>2.0</td>\n",
       "      <td>https://www.tripadvisor.com/Hotel_Review-g4118...</td>\n",
       "      <td>Currently in bed writing this for the past hr ...</td>\n",
       "      <td>Never again...beware, if you want sleep.</td>\n",
       "      <td>Richmond</td>\n",
       "      <td>VA</td>\n",
       "      <td>jaeem2016</td>\n",
       "      <td>http://www.yellowbook.com/profile/aloft-arunde...</td>\n",
       "      <td>http://www.starwoodhotels.com/alofthotels/prop...</td>\n",
       "    </tr>\n",
       "    <tr>\n",
       "      <th>4</th>\n",
       "      <td>AVwdOclqIN2L1WUfti38</td>\n",
       "      <td>2015-11-28T19:19:35Z</td>\n",
       "      <td>2018-09-10T21:06:16Z</td>\n",
       "      <td>7520 Teague Rd</td>\n",
       "      <td>Hotels,Hotels and motels,Travel agencies and b...</td>\n",
       "      <td>Accommodation &amp; Food Services</td>\n",
       "      <td>Hanover</td>\n",
       "      <td>US</td>\n",
       "      <td>us/md/hanover/7520teaguerd/-2043779672</td>\n",
       "      <td>39.155929</td>\n",
       "      <td>...</td>\n",
       "      <td>2016-07-31T00:00:00Z</td>\n",
       "      <td>5.0</td>\n",
       "      <td>https://www.tripadvisor.com/Hotel_Review-g4118...</td>\n",
       "      <td>I live in Md and the Aloft is my Home away fro...</td>\n",
       "      <td>ALWAYS GREAT STAY...</td>\n",
       "      <td>Laurel</td>\n",
       "      <td>MD</td>\n",
       "      <td>MamaNiaOne</td>\n",
       "      <td>http://www.yellowbook.com/profile/aloft-arunde...</td>\n",
       "      <td>http://www.starwoodhotels.com/alofthotels/prop...</td>\n",
       "    </tr>\n",
       "  </tbody>\n",
       "</table>\n",
       "<p>5 rows × 25 columns</p>\n",
       "</div>"
      ],
      "text/plain": [
       "                     id             dateAdded           dateUpdated  \\\n",
       "0  AVwc252WIN2L1WUfpqLP  2016-10-30T21:42:42Z  2018-09-10T21:06:27Z   \n",
       "1  AVwc252WIN2L1WUfpqLP  2016-10-30T21:42:42Z  2018-09-10T21:06:27Z   \n",
       "2  AVwc252WIN2L1WUfpqLP  2016-10-30T21:42:42Z  2018-09-10T21:06:27Z   \n",
       "3  AVwdOclqIN2L1WUfti38  2015-11-28T19:19:35Z  2018-09-10T21:06:16Z   \n",
       "4  AVwdOclqIN2L1WUfti38  2015-11-28T19:19:35Z  2018-09-10T21:06:16Z   \n",
       "\n",
       "             address                                         categories  \\\n",
       "0  5921 Valencia Cir  Hotels,Hotels and motels,Hotel and motel reser...   \n",
       "1  5921 Valencia Cir  Hotels,Hotels and motels,Hotel and motel reser...   \n",
       "2  5921 Valencia Cir  Hotels,Hotels and motels,Hotel and motel reser...   \n",
       "3     7520 Teague Rd  Hotels,Hotels and motels,Travel agencies and b...   \n",
       "4     7520 Teague Rd  Hotels,Hotels and motels,Travel agencies and b...   \n",
       "\n",
       "               primaryCategories             city country  \\\n",
       "0  Accommodation & Food Services  Rancho Santa Fe      US   \n",
       "1  Accommodation & Food Services  Rancho Santa Fe      US   \n",
       "2  Accommodation & Food Services  Rancho Santa Fe      US   \n",
       "3  Accommodation & Food Services          Hanover      US   \n",
       "4  Accommodation & Food Services          Hanover      US   \n",
       "\n",
       "                                            keys   latitude  ...  \\\n",
       "0  us/ca/ranchosantafe/5921valenciacir/359754519  32.990959  ...   \n",
       "1  us/ca/ranchosantafe/5921valenciacir/359754519  32.990959  ...   \n",
       "2  us/ca/ranchosantafe/5921valenciacir/359754519  32.990959  ...   \n",
       "3         us/md/hanover/7520teaguerd/-2043779672  39.155929  ...   \n",
       "4         us/md/hanover/7520teaguerd/-2043779672  39.155929  ...   \n",
       "\n",
       "                                    reviews.dateSeen reviews.rating  \\\n",
       "0  2016-08-03T00:00:00Z,2016-07-26T00:00:00Z,2016...            5.0   \n",
       "1  2016-08-02T00:00:00Z,2016-08-26T00:00:00Z,2016...            5.0   \n",
       "2  2016-11-15T00:00:00Z,2016-08-23T00:00:00Z,2016...            5.0   \n",
       "3          2016-05-21T00:00:00Z,2016-07-31T00:00:00Z            2.0   \n",
       "4                               2016-07-31T00:00:00Z            5.0   \n",
       "\n",
       "                                  reviews.sourceURLs  \\\n",
       "0    https://www.hotels.com/hotel/125419/reviews%20/   \n",
       "1    https://www.hotels.com/hotel/125419/reviews%20/   \n",
       "2    https://www.hotels.com/hotel/125419/reviews%20/   \n",
       "3  https://www.tripadvisor.com/Hotel_Review-g4118...   \n",
       "4  https://www.tripadvisor.com/Hotel_Review-g4118...   \n",
       "\n",
       "                                        reviews.text  \\\n",
       "0  Our experience at Rancho Valencia was absolute...   \n",
       "1  Amazing place. Everyone was extremely warm and...   \n",
       "2  We booked a 3 night stay at Rancho Valencia to...   \n",
       "3  Currently in bed writing this for the past hr ...   \n",
       "4  I live in Md and the Aloft is my Home away fro...   \n",
       "\n",
       "                              reviews.title reviews.userCity  \\\n",
       "0           Best romantic vacation ever!!!!              NaN   \n",
       "1                      Sweet sweet serenity              NaN   \n",
       "2           Amazing Property and Experience              NaN   \n",
       "3  Never again...beware, if you want sleep.         Richmond   \n",
       "4                      ALWAYS GREAT STAY...           Laurel   \n",
       "\n",
       "   reviews.userProvince reviews.username  \\\n",
       "0                   NaN            Paula   \n",
       "1                   NaN                D   \n",
       "2                   NaN              Ron   \n",
       "3                    VA        jaeem2016   \n",
       "4                    MD       MamaNiaOne   \n",
       "\n",
       "                                          sourceURLs  \\\n",
       "0  http://www.hotels.com/ho125419/%25252525253Flo...   \n",
       "1  http://www.hotels.com/ho125419/%25252525253Flo...   \n",
       "2  http://www.hotels.com/ho125419/%25252525253Flo...   \n",
       "3  http://www.yellowbook.com/profile/aloft-arunde...   \n",
       "4  http://www.yellowbook.com/profile/aloft-arunde...   \n",
       "\n",
       "                                            websites  \n",
       "0                      http://www.ranchovalencia.com  \n",
       "1                      http://www.ranchovalencia.com  \n",
       "2                      http://www.ranchovalencia.com  \n",
       "3  http://www.starwoodhotels.com/alofthotels/prop...  \n",
       "4  http://www.starwoodhotels.com/alofthotels/prop...  \n",
       "\n",
       "[5 rows x 25 columns]"
      ]
     },
     "execution_count": 5,
     "metadata": {},
     "output_type": "execute_result"
    }
   ],
   "source": [
    "# Dataset part\n",
    "dataset = pd.read_csv(\"../input/hotel-reviews/Datafiniti_Hotel_Reviews.csv\")\n",
    "\n",
    "dataset.head()\n",
    "# Prints 1st 5 rows"
   ]
  },
  {
   "cell_type": "code",
   "execution_count": 6,
   "metadata": {
    "execution": {
     "iopub.execute_input": "2021-02-28T14:34:57.373341Z",
     "iopub.status.busy": "2021-02-28T14:34:57.372161Z",
     "iopub.status.idle": "2021-02-28T14:34:57.379474Z",
     "shell.execute_reply": "2021-02-28T14:34:57.379025Z"
    },
    "papermill": {
     "duration": 0.033242,
     "end_time": "2021-02-28T14:34:57.379585",
     "exception": false,
     "start_time": "2021-02-28T14:34:57.346343",
     "status": "completed"
    },
    "tags": []
   },
   "outputs": [],
   "source": [
    "dataset[\"review\"] = dataset[\"reviews.text\"]\n",
    "\n",
    "dataset[\"score\"] = dataset[\"reviews.rating\"].apply(lambda x: \"negative\" if x<3 else \"positive\")\n",
    "\n",
    "df = dataset[[\"review\", \"score\"]]"
   ]
  },
  {
   "cell_type": "code",
   "execution_count": 7,
   "metadata": {
    "execution": {
     "iopub.execute_input": "2021-02-28T14:34:57.413116Z",
     "iopub.status.busy": "2021-02-28T14:34:57.412632Z",
     "iopub.status.idle": "2021-02-28T14:34:57.418796Z",
     "shell.execute_reply": "2021-02-28T14:34:57.418362Z"
    },
    "papermill": {
     "duration": 0.02611,
     "end_time": "2021-02-28T14:34:57.418897",
     "exception": false,
     "start_time": "2021-02-28T14:34:57.392787",
     "status": "completed"
    },
    "tags": []
   },
   "outputs": [
    {
     "data": {
      "text/html": [
       "<div>\n",
       "<style scoped>\n",
       "    .dataframe tbody tr th:only-of-type {\n",
       "        vertical-align: middle;\n",
       "    }\n",
       "\n",
       "    .dataframe tbody tr th {\n",
       "        vertical-align: top;\n",
       "    }\n",
       "\n",
       "    .dataframe thead th {\n",
       "        text-align: right;\n",
       "    }\n",
       "</style>\n",
       "<table border=\"1\" class=\"dataframe\">\n",
       "  <thead>\n",
       "    <tr style=\"text-align: right;\">\n",
       "      <th></th>\n",
       "      <th>review</th>\n",
       "      <th>score</th>\n",
       "    </tr>\n",
       "  </thead>\n",
       "  <tbody>\n",
       "    <tr>\n",
       "      <th>0</th>\n",
       "      <td>Our experience at Rancho Valencia was absolute...</td>\n",
       "      <td>positive</td>\n",
       "    </tr>\n",
       "    <tr>\n",
       "      <th>1</th>\n",
       "      <td>Amazing place. Everyone was extremely warm and...</td>\n",
       "      <td>positive</td>\n",
       "    </tr>\n",
       "    <tr>\n",
       "      <th>2</th>\n",
       "      <td>We booked a 3 night stay at Rancho Valencia to...</td>\n",
       "      <td>positive</td>\n",
       "    </tr>\n",
       "    <tr>\n",
       "      <th>3</th>\n",
       "      <td>Currently in bed writing this for the past hr ...</td>\n",
       "      <td>negative</td>\n",
       "    </tr>\n",
       "    <tr>\n",
       "      <th>4</th>\n",
       "      <td>I live in Md and the Aloft is my Home away fro...</td>\n",
       "      <td>positive</td>\n",
       "    </tr>\n",
       "  </tbody>\n",
       "</table>\n",
       "</div>"
      ],
      "text/plain": [
       "                                              review     score\n",
       "0  Our experience at Rancho Valencia was absolute...  positive\n",
       "1  Amazing place. Everyone was extremely warm and...  positive\n",
       "2  We booked a 3 night stay at Rancho Valencia to...  positive\n",
       "3  Currently in bed writing this for the past hr ...  negative\n",
       "4  I live in Md and the Aloft is my Home away fro...  positive"
      ]
     },
     "execution_count": 7,
     "metadata": {},
     "output_type": "execute_result"
    }
   ],
   "source": [
    "df.head()\n",
    "# Testing the reviews...."
   ]
  },
  {
   "cell_type": "code",
   "execution_count": 8,
   "metadata": {
    "execution": {
     "iopub.execute_input": "2021-02-28T14:34:57.456581Z",
     "iopub.status.busy": "2021-02-28T14:34:57.455986Z",
     "iopub.status.idle": "2021-02-28T14:34:57.459109Z",
     "shell.execute_reply": "2021-02-28T14:34:57.459512Z"
    },
    "papermill": {
     "duration": 0.02702,
     "end_time": "2021-02-28T14:34:57.459628",
     "exception": false,
     "start_time": "2021-02-28T14:34:57.432608",
     "status": "completed"
    },
    "tags": []
   },
   "outputs": [
    {
     "data": {
      "text/plain": [
       "positive    8747\n",
       "negative    1253\n",
       "Name: score, dtype: int64"
      ]
     },
     "execution_count": 8,
     "metadata": {},
     "output_type": "execute_result"
    }
   ],
   "source": [
    "df.score.value_counts()"
   ]
  },
  {
   "cell_type": "code",
   "execution_count": 9,
   "metadata": {
    "execution": {
     "iopub.execute_input": "2021-02-28T14:34:57.494751Z",
     "iopub.status.busy": "2021-02-28T14:34:57.493953Z",
     "iopub.status.idle": "2021-02-28T14:34:57.501229Z",
     "shell.execute_reply": "2021-02-28T14:34:57.500742Z"
    },
    "papermill": {
     "duration": 0.026566,
     "end_time": "2021-02-28T14:34:57.501327",
     "exception": false,
     "start_time": "2021-02-28T14:34:57.474761",
     "status": "completed"
    },
    "tags": []
   },
   "outputs": [
    {
     "name": "stdout",
     "output_type": "stream",
     "text": [
      "(8747, 2) (1253, 2)\n"
     ]
    }
   ],
   "source": [
    "positive_df = df[df[\"score\"] == \"positive\"]\n",
    "negative_df = df[df[\"score\"] == \"negative\"]\n",
    "\n",
    "print(positive_df.shape, negative_df.shape)"
   ]
  },
  {
   "cell_type": "code",
   "execution_count": 10,
   "metadata": {
    "execution": {
     "iopub.execute_input": "2021-02-28T14:34:57.536263Z",
     "iopub.status.busy": "2021-02-28T14:34:57.535782Z",
     "iopub.status.idle": "2021-02-28T14:34:57.539346Z",
     "shell.execute_reply": "2021-02-28T14:34:57.538934Z"
    },
    "papermill": {
     "duration": 0.02379,
     "end_time": "2021-02-28T14:34:57.539504",
     "exception": false,
     "start_time": "2021-02-28T14:34:57.515714",
     "status": "completed"
    },
    "tags": []
   },
   "outputs": [],
   "source": [
    "good_df = positive_df.sample(n=len(negative_df), random_state=42)\n",
    "bad_df = negative_df\n",
    "\n",
    "# This is done to make both data equal in number"
   ]
  },
  {
   "cell_type": "code",
   "execution_count": 11,
   "metadata": {
    "execution": {
     "iopub.execute_input": "2021-02-28T14:34:57.574705Z",
     "iopub.status.busy": "2021-02-28T14:34:57.574042Z",
     "iopub.status.idle": "2021-02-28T14:34:57.579244Z",
     "shell.execute_reply": "2021-02-28T14:34:57.578797Z"
    },
    "papermill": {
     "duration": 0.0252,
     "end_time": "2021-02-28T14:34:57.579341",
     "exception": false,
     "start_time": "2021-02-28T14:34:57.554141",
     "status": "completed"
    },
    "tags": []
   },
   "outputs": [
    {
     "data": {
      "text/plain": [
       "(2506, 2)"
      ]
     },
     "execution_count": 11,
     "metadata": {},
     "output_type": "execute_result"
    }
   ],
   "source": [
    "review_df = good_df.append(bad_df).reset_index(drop=True)\n",
    "review_df.shape"
   ]
  },
  {
   "cell_type": "code",
   "execution_count": 12,
   "metadata": {
    "execution": {
     "iopub.execute_input": "2021-02-28T14:34:57.617576Z",
     "iopub.status.busy": "2021-02-28T14:34:57.616695Z",
     "iopub.status.idle": "2021-02-28T14:34:57.621371Z",
     "shell.execute_reply": "2021-02-28T14:34:57.620934Z"
    },
    "papermill": {
     "duration": 0.027251,
     "end_time": "2021-02-28T14:34:57.621491",
     "exception": false,
     "start_time": "2021-02-28T14:34:57.594240",
     "status": "completed"
    },
    "tags": []
   },
   "outputs": [
    {
     "data": {
      "text/html": [
       "<div>\n",
       "<style scoped>\n",
       "    .dataframe tbody tr th:only-of-type {\n",
       "        vertical-align: middle;\n",
       "    }\n",
       "\n",
       "    .dataframe tbody tr th {\n",
       "        vertical-align: top;\n",
       "    }\n",
       "\n",
       "    .dataframe thead th {\n",
       "        text-align: right;\n",
       "    }\n",
       "</style>\n",
       "<table border=\"1\" class=\"dataframe\">\n",
       "  <thead>\n",
       "    <tr style=\"text-align: right;\">\n",
       "      <th></th>\n",
       "      <th>review</th>\n",
       "      <th>score</th>\n",
       "    </tr>\n",
       "  </thead>\n",
       "  <tbody>\n",
       "    <tr>\n",
       "      <th>0</th>\n",
       "      <td>We booked here for a second year in a row. We ...</td>\n",
       "      <td>positive</td>\n",
       "    </tr>\n",
       "    <tr>\n",
       "      <th>1</th>\n",
       "      <td>We drove 17 hours that day and I just wanted t...</td>\n",
       "      <td>positive</td>\n",
       "    </tr>\n",
       "    <tr>\n",
       "      <th>2</th>\n",
       "      <td>We have spent a number of nights at this motel...</td>\n",
       "      <td>positive</td>\n",
       "    </tr>\n",
       "    <tr>\n",
       "      <th>3</th>\n",
       "      <td>My family and I stayed at this hotel last nigh...</td>\n",
       "      <td>positive</td>\n",
       "    </tr>\n",
       "    <tr>\n",
       "      <th>4</th>\n",
       "      <td>When we checked in and proceded up to our room...</td>\n",
       "      <td>positive</td>\n",
       "    </tr>\n",
       "  </tbody>\n",
       "</table>\n",
       "</div>"
      ],
      "text/plain": [
       "                                              review     score\n",
       "0  We booked here for a second year in a row. We ...  positive\n",
       "1  We drove 17 hours that day and I just wanted t...  positive\n",
       "2  We have spent a number of nights at this motel...  positive\n",
       "3  My family and I stayed at this hotel last nigh...  positive\n",
       "4  When we checked in and proceded up to our room...  positive"
      ]
     },
     "execution_count": 12,
     "metadata": {},
     "output_type": "execute_result"
    }
   ],
   "source": [
    "review_df.head()"
   ]
  },
  {
   "cell_type": "code",
   "execution_count": 13,
   "metadata": {
    "execution": {
     "iopub.execute_input": "2021-02-28T14:34:57.659266Z",
     "iopub.status.busy": "2021-02-28T14:34:57.658637Z",
     "iopub.status.idle": "2021-02-28T14:34:57.661255Z",
     "shell.execute_reply": "2021-02-28T14:34:57.661637Z"
    },
    "papermill": {
     "duration": 0.024494,
     "end_time": "2021-02-28T14:34:57.661763",
     "exception": false,
     "start_time": "2021-02-28T14:34:57.637269",
     "status": "completed"
    },
    "tags": []
   },
   "outputs": [],
   "source": [
    "from sklearn.preprocessing import OneHotEncoder\n",
    "\n",
    "type_one_hot = OneHotEncoder(sparse=False).fit_transform(\n",
    "  review_df.score.to_numpy().reshape(-1, 1)\n",
    ")"
   ]
  },
  {
   "cell_type": "code",
   "execution_count": 14,
   "metadata": {
    "execution": {
     "iopub.execute_input": "2021-02-28T14:34:57.696791Z",
     "iopub.status.busy": "2021-02-28T14:34:57.696141Z",
     "iopub.status.idle": "2021-02-28T14:34:57.777149Z",
     "shell.execute_reply": "2021-02-28T14:34:57.776482Z"
    },
    "papermill": {
     "duration": 0.099988,
     "end_time": "2021-02-28T14:34:57.777280",
     "exception": false,
     "start_time": "2021-02-28T14:34:57.677292",
     "status": "completed"
    },
    "tags": []
   },
   "outputs": [],
   "source": [
    "from sklearn.model_selection import train_test_split\n",
    "\n",
    "train_reviews, test_reviews, y_train, y_test =\\\n",
    "  train_test_split(\n",
    "    review_df.review, \n",
    "    type_one_hot, \n",
    "    test_size=.1, \n",
    "    random_state=42\n",
    "  )"
   ]
  },
  {
   "cell_type": "code",
   "execution_count": 15,
   "metadata": {
    "execution": {
     "iopub.execute_input": "2021-02-28T14:34:57.818124Z",
     "iopub.status.busy": "2021-02-28T14:34:57.817565Z",
     "iopub.status.idle": "2021-02-28T14:35:37.400536Z",
     "shell.execute_reply": "2021-02-28T14:35:37.401221Z"
    },
    "papermill": {
     "duration": 39.608394,
     "end_time": "2021-02-28T14:35:37.401444",
     "exception": false,
     "start_time": "2021-02-28T14:34:57.793050",
     "status": "completed"
    },
    "tags": []
   },
   "outputs": [
    {
     "name": "stderr",
     "output_type": "stream",
     "text": [
      "100%|██████████| 2255/2255 [00:35<00:00, 63.02it/s]\n",
      "100%|██████████| 251/251 [00:03<00:00, 66.32it/s]\n"
     ]
    }
   ],
   "source": [
    "from tqdm import tqdm\n",
    "\n",
    "X_train = []\n",
    "for r in tqdm(train_reviews):\n",
    "  emb = USE(r)\n",
    "  review_emb = tf.reshape(emb, [-1]).numpy()\n",
    "  X_train.append(review_emb)\n",
    "\n",
    "X_train = np.array(X_train)\n",
    "\n",
    "X_test = []\n",
    "for r in tqdm(test_reviews):\n",
    "  emb = USE(r)\n",
    "  review_emb = tf.reshape(emb, [-1]).numpy()\n",
    "  X_test.append(review_emb)\n",
    "\n",
    "X_test = np.array(X_test)"
   ]
  },
  {
   "cell_type": "code",
   "execution_count": 16,
   "metadata": {
    "execution": {
     "iopub.execute_input": "2021-02-28T14:35:37.617573Z",
     "iopub.status.busy": "2021-02-28T14:35:37.616958Z",
     "iopub.status.idle": "2021-02-28T14:35:37.869791Z",
     "shell.execute_reply": "2021-02-28T14:35:37.868978Z"
    },
    "papermill": {
     "duration": 0.36401,
     "end_time": "2021-02-28T14:35:37.869960",
     "exception": false,
     "start_time": "2021-02-28T14:35:37.505950",
     "status": "completed"
    },
    "tags": []
   },
   "outputs": [],
   "source": [
    "model = keras.Sequential()\n",
    "\n",
    "model.add(\n",
    "  keras.layers.Dense(\n",
    "    units=256,\n",
    "    input_shape=(X_train.shape[1], ),\n",
    "    activation='relu'\n",
    "  )\n",
    ")\n",
    "model.add(\n",
    "  keras.layers.Dropout(rate=0.5)\n",
    ")\n",
    "\n",
    "model.add(\n",
    "  keras.layers.Dense(\n",
    "    units=128,\n",
    "    activation='relu'\n",
    "  )\n",
    ")\n",
    "model.add(\n",
    "  keras.layers.Dropout(rate=0.5)\n",
    ")\n",
    "\n",
    "model.add(\n",
    "  keras.layers.Dense(\n",
    "    units=64,\n",
    "    activation='relu',\n",
    "    kernel_regularizer='l1'\n",
    "  )\n",
    ")\n",
    "\n",
    "model.add(\n",
    "  keras.layers.Dropout(rate=0.5)\n",
    ")\n",
    "\n",
    "model.add(keras.layers.Dense(2, activation='softmax'))\n",
    "model.compile(\n",
    "    loss='categorical_crossentropy', \n",
    "    optimizer=keras.optimizers.Adam(0.001),\n",
    "    metrics=['accuracy']\n",
    ")"
   ]
  },
  {
   "cell_type": "code",
   "execution_count": 17,
   "metadata": {
    "execution": {
     "iopub.execute_input": "2021-02-28T14:35:38.085246Z",
     "iopub.status.busy": "2021-02-28T14:35:38.084053Z",
     "iopub.status.idle": "2021-02-28T14:35:46.545763Z",
     "shell.execute_reply": "2021-02-28T14:35:46.544616Z"
    },
    "papermill": {
     "duration": 8.571562,
     "end_time": "2021-02-28T14:35:46.545896",
     "exception": false,
     "start_time": "2021-02-28T14:35:37.974334",
     "status": "completed"
    },
    "tags": []
   },
   "outputs": [
    {
     "name": "stdout",
     "output_type": "stream",
     "text": [
      "Epoch 1/20\n",
      "127/127 [==============================] - 1s 7ms/step - loss: 5.7242 - accuracy: 0.5864 - val_loss: 1.1991 - val_accuracy: 0.8407\n",
      "Epoch 2/20\n",
      "127/127 [==============================] - 0s 3ms/step - loss: 0.8250 - accuracy: 0.8382 - val_loss: 0.4809 - val_accuracy: 0.8584\n",
      "Epoch 3/20\n",
      "127/127 [==============================] - 0s 3ms/step - loss: 0.4912 - accuracy: 0.8619 - val_loss: 0.4573 - val_accuracy: 0.8673\n",
      "Epoch 4/20\n",
      "127/127 [==============================] - 0s 3ms/step - loss: 0.4373 - accuracy: 0.8775 - val_loss: 0.4344 - val_accuracy: 0.8628\n",
      "Epoch 5/20\n",
      "127/127 [==============================] - 0s 3ms/step - loss: 0.4732 - accuracy: 0.8562 - val_loss: 0.4545 - val_accuracy: 0.8584\n",
      "Epoch 6/20\n",
      "127/127 [==============================] - 0s 3ms/step - loss: 0.4347 - accuracy: 0.8638 - val_loss: 0.4460 - val_accuracy: 0.8717\n",
      "Epoch 7/20\n",
      "127/127 [==============================] - 0s 3ms/step - loss: 0.4400 - accuracy: 0.8726 - val_loss: 0.4250 - val_accuracy: 0.8717\n",
      "Epoch 8/20\n",
      "127/127 [==============================] - 0s 3ms/step - loss: 0.3734 - accuracy: 0.8965 - val_loss: 0.4330 - val_accuracy: 0.8584\n",
      "Epoch 9/20\n",
      "127/127 [==============================] - 0s 3ms/step - loss: 0.3719 - accuracy: 0.8905 - val_loss: 0.4227 - val_accuracy: 0.8540\n",
      "Epoch 10/20\n",
      "127/127 [==============================] - 0s 3ms/step - loss: 0.3655 - accuracy: 0.9009 - val_loss: 0.4444 - val_accuracy: 0.8451\n",
      "Epoch 11/20\n",
      "127/127 [==============================] - 1s 4ms/step - loss: 0.3602 - accuracy: 0.8987 - val_loss: 0.4265 - val_accuracy: 0.8584\n",
      "Epoch 12/20\n",
      "127/127 [==============================] - 0s 3ms/step - loss: 0.3400 - accuracy: 0.9068 - val_loss: 0.4444 - val_accuracy: 0.8540\n",
      "Epoch 13/20\n",
      "127/127 [==============================] - 0s 3ms/step - loss: 0.3284 - accuracy: 0.9256 - val_loss: 0.4361 - val_accuracy: 0.8628\n",
      "Epoch 14/20\n",
      "127/127 [==============================] - 0s 3ms/step - loss: 0.2969 - accuracy: 0.9311 - val_loss: 0.4848 - val_accuracy: 0.8496\n",
      "Epoch 15/20\n",
      "127/127 [==============================] - 0s 3ms/step - loss: 0.3072 - accuracy: 0.9155 - val_loss: 0.4633 - val_accuracy: 0.8540\n",
      "Epoch 16/20\n",
      "127/127 [==============================] - 0s 3ms/step - loss: 0.2647 - accuracy: 0.9467 - val_loss: 0.4553 - val_accuracy: 0.8496\n",
      "Epoch 17/20\n",
      "127/127 [==============================] - 0s 3ms/step - loss: 0.2833 - accuracy: 0.9390 - val_loss: 0.5197 - val_accuracy: 0.8584\n",
      "Epoch 18/20\n",
      "127/127 [==============================] - 0s 3ms/step - loss: 0.2670 - accuracy: 0.9469 - val_loss: 0.5159 - val_accuracy: 0.8540\n",
      "Epoch 19/20\n",
      "127/127 [==============================] - 0s 3ms/step - loss: 0.2345 - accuracy: 0.9495 - val_loss: 0.5037 - val_accuracy: 0.8363\n",
      "Epoch 20/20\n",
      "127/127 [==============================] - 0s 3ms/step - loss: 0.2342 - accuracy: 0.9574 - val_loss: 0.5433 - val_accuracy: 0.8407\n"
     ]
    }
   ],
   "source": [
    "history = model.fit(\n",
    "    X_train, y_train, \n",
    "    epochs=20, \n",
    "    batch_size=16, \n",
    "    validation_split=0.1, \n",
    "    verbose=1, \n",
    "    shuffle=True\n",
    ")"
   ]
  },
  {
   "cell_type": "code",
   "execution_count": 18,
   "metadata": {
    "execution": {
     "iopub.execute_input": "2021-02-28T14:35:46.846440Z",
     "iopub.status.busy": "2021-02-28T14:35:46.845511Z",
     "iopub.status.idle": "2021-02-28T14:35:47.011872Z",
     "shell.execute_reply": "2021-02-28T14:35:47.012332Z"
    },
    "papermill": {
     "duration": 0.324984,
     "end_time": "2021-02-28T14:35:47.012501",
     "exception": false,
     "start_time": "2021-02-28T14:35:46.687517",
     "status": "completed"
    },
    "tags": []
   },
   "outputs": [
    {
     "data": {
      "image/png": "[encoded data removed]",
      "text/plain": [
       "<Figure size 432x288 with 1 Axes>"
      ]
     },
     "metadata": {
      "needs_background": "light"
     },
     "output_type": "display_data"
    }
   ],
   "source": [
    "import matplotlib.pyplot as plt\n",
    "\n",
    "plt.plot(history.history['loss'], label='train loss')\n",
    "plt.plot(history.history['val_loss'], label='val loss')\n",
    "plt.xlabel(\"epoch\")\n",
    "plt.ylabel(\"Cross-entropy loss\")\n",
    "plt.legend();"
   ]
  },
  {
   "cell_type": "code",
   "execution_count": 19,
   "metadata": {
    "execution": {
     "iopub.execute_input": "2021-02-28T14:35:47.324030Z",
     "iopub.status.busy": "2021-02-28T14:35:47.316987Z",
     "iopub.status.idle": "2021-02-28T14:35:47.450752Z",
     "shell.execute_reply": "2021-02-28T14:35:47.451156Z"
    },
    "papermill": {
     "duration": 0.296353,
     "end_time": "2021-02-28T14:35:47.451303",
     "exception": false,
     "start_time": "2021-02-28T14:35:47.154950",
     "status": "completed"
    },
    "tags": []
   },
   "outputs": [
    {
     "data": {
      "image/png": "[encoded data removed]",
      "text/plain": [
       "<Figure size 432x288 with 1 Axes>"
      ]
     },
     "metadata": {
      "needs_background": "light"
     },
     "output_type": "display_data"
    }
   ],
   "source": [
    "plt.plot(history.history['accuracy'], label='train accuracy')\n",
    "plt.plot(history.history['val_accuracy'], label='val accuracy')\n",
    "plt.xlabel(\"epoch\")\n",
    "plt.ylabel(\"accuracy\")\n",
    "plt.legend();"
   ]
  },
  {
   "cell_type": "code",
   "execution_count": 20,
   "metadata": {
    "execution": {
     "iopub.execute_input": "2021-02-28T14:35:47.747972Z",
     "iopub.status.busy": "2021-02-28T14:35:47.747183Z",
     "iopub.status.idle": "2021-02-28T14:35:47.805973Z",
     "shell.execute_reply": "2021-02-28T14:35:47.805558Z"
    },
    "papermill": {
     "duration": 0.205887,
     "end_time": "2021-02-28T14:35:47.806093",
     "exception": false,
     "start_time": "2021-02-28T14:35:47.600206",
     "status": "completed"
    },
    "tags": []
   },
   "outputs": [
    {
     "name": "stdout",
     "output_type": "stream",
     "text": [
      "8/8 [==============================] - 0s 2ms/step - loss: 0.5184 - accuracy: 0.8406\n"
     ]
    },
    {
     "data": {
      "text/plain": [
       "[0.5183751583099365, 0.8406374454498291]"
      ]
     },
     "execution_count": 20,
     "metadata": {},
     "output_type": "execute_result"
    }
   ],
   "source": [
    "model.evaluate(X_test, y_test)"
   ]
  },
  {
   "cell_type": "code",
   "execution_count": 21,
   "metadata": {
    "execution": {
     "iopub.execute_input": "2021-02-28T14:35:48.098132Z",
     "iopub.status.busy": "2021-02-28T14:35:48.097548Z",
     "iopub.status.idle": "2021-02-28T14:35:48.102084Z",
     "shell.execute_reply": "2021-02-28T14:35:48.102686Z"
    },
    "papermill": {
     "duration": 0.152704,
     "end_time": "2021-02-28T14:35:48.102868",
     "exception": false,
     "start_time": "2021-02-28T14:35:47.950164",
     "status": "completed"
    },
    "tags": []
   },
   "outputs": [
    {
     "name": "stdout",
     "output_type": "stream",
     "text": [
      "We had booked at this hotel 4 months in advance because TripAdvisor said this was the 1 hotel in Winnfield and honestly we did not even stay for 1 hour, we went to our room called La Jagu and moved to that hotel, please see my review of that hotel for information about it. When we arrived, the ladies at... More\n",
      "Bad\n"
     ]
    }
   ],
   "source": [
    "print(test_reviews.iloc[0])\n",
    "print(\"Bad\" if y_test[0][0] == 1 else \"Good\")"
   ]
  },
  {
   "cell_type": "code",
   "execution_count": 22,
   "metadata": {
    "execution": {
     "iopub.execute_input": "2021-02-28T14:35:48.393128Z",
     "iopub.status.busy": "2021-02-28T14:35:48.392605Z",
     "iopub.status.idle": "2021-02-28T14:35:48.492698Z",
     "shell.execute_reply": "2021-02-28T14:35:48.492236Z"
    },
    "papermill": {
     "duration": 0.24697,
     "end_time": "2021-02-28T14:35:48.492824",
     "exception": false,
     "start_time": "2021-02-28T14:35:48.245854",
     "status": "completed"
    },
    "tags": []
   },
   "outputs": [
    {
     "name": "stdout",
     "output_type": "stream",
     "text": [
      "[[0.02045111 0.97954893]]\n"
     ]
    },
    {
     "data": {
      "text/plain": [
       "'Good'"
      ]
     },
     "execution_count": 22,
     "metadata": {},
     "output_type": "execute_result"
    }
   ],
   "source": [
    "y_pred = model.predict(X_test[:1])\n",
    "print(y_pred)\n",
    "\"Bad\" if np.argmax(y_pred) == 0 else \"Good\""
   ]
  },
  {
   "cell_type": "code",
   "execution_count": 23,
   "metadata": {
    "execution": {
     "iopub.execute_input": "2021-02-28T14:35:48.788309Z",
     "iopub.status.busy": "2021-02-28T14:35:48.787672Z",
     "iopub.status.idle": "2021-02-28T14:35:48.792941Z",
     "shell.execute_reply": "2021-02-28T14:35:48.792314Z"
    },
    "papermill": {
     "duration": 0.153904,
     "end_time": "2021-02-28T14:35:48.793092",
     "exception": false,
     "start_time": "2021-02-28T14:35:48.639188",
     "status": "completed"
    },
    "tags": []
   },
   "outputs": [
    {
     "name": "stdout",
     "output_type": "stream",
     "text": [
      "Clean friendly easy to access from the highway. Good price with Beautiful rooms. Free breakfast and free wifi. The staff were amazing! I called at 10:05pm had a room 3 mins later. I will definitely go back here!!!\n",
      "Good\n"
     ]
    }
   ],
   "source": [
    "print(test_reviews.iloc[1])\n",
    "print(\"Bad\" if y_test[1][0] == 1 else \"Good\")"
   ]
  }
 ],
 "metadata": {
  "kernelspec": {
   "display_name": "Python 3",
   "language": "python",
   "name": "python3"
  },
  "language_info": {
   "codemirror_mode": {
    "name": "ipython",
    "version": 3
   },
   "file_extension": ".py",
   "mimetype": "text/x-python",
   "name": "python",
   "nbconvert_exporter": "python",
   "pygments_lexer": "ipython3",
   "version": "3.7.9"
  },
  "papermill": {
   "default_parameters": {},
   "duration": 94.834524,
   "end_time": "2021-02-28T14:35:52.101569",
   "environment_variables": {},
   "exception": null,
   "input_path": "__notebook__.ipynb",
   "output_path": "__notebook__.ipynb",
   "parameters": {},
   "start_time": "2021-02-28T14:34:17.267045",
   "version": "2.2.2"
  }
 },
 "nbformat": 4,
 "nbformat_minor": 4
}
